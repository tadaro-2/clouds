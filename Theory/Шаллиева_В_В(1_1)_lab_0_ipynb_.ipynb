{
  "nbformat": 4,
  "nbformat_minor": 0,
  "metadata": {
    "colab": {
      "provenance": []
    },
    "kernelspec": {
      "name": "python3",
      "display_name": "Python 3"
    },
    "language_info": {
      "name": "python"
    }
  },
  "cells": [
    {
      "cell_type": "markdown",
      "source": [
        "### Задача 1 – Умножение матриц"
      ],
      "metadata": {
        "id": "Rbr-ll62IIsZ"
      }
    },
    {
      "cell_type": "markdown",
      "source": [
        "Напишите функцию для умножения матриц, используя только списки и циклы.\n",
        "\n",
        "Не забывайте проверить, что умножение выполнить возможно.\n",
        "Напомним, что две матрицы могут быть перемножены, если число столбцов первой матрицы равно числу строк второй матрицы. Если матрица\n",
        "$A$ имеет размер $m×n$ ($m$ строк и $nя$ столбцов), а матрица $B$ имеет размер $n×p$, то их произведение $C=AB$ будет иметь размер $m×p$.\n",
        "\n",
        "Если $A=(a_{ij})$ — матрица размера $m×n$, а $B=(b_{jk})$ — матрица размера $n×p$, то элемент $c_{ik}$ матрицы $C=AB$ вычисляется по формуле:\n",
        "\n",
        "$$c_{ik}=\\sum_{j=1}^{n}a_{ij}b_{jk}$$\n",
        "\n",
        "То есть каждый элемент новой матрицы является суммой произведений соответствующих элементов строки первой матрицы и столбца второй."
      ],
      "metadata": {
        "id": "8INa2MESLZ4O"
      }
    },
    {
      "cell_type": "code",
      "source": [
        "import numpy as np\n",
        "\n",
        "matrix1 = np.array([[1, 2, 3], [4, 5, 6], [7, 8, 9]])\n",
        "matrix2 = np.array([[9, 8, 7], [6, 5, 4], [3, 2, 1]])\n",
        "\n",
        "print(\"Произведение матриц:\")\n",
        "matrix1 @ matrix2"
      ],
      "metadata": {
        "colab": {
          "base_uri": "https://localhost:8080/"
        },
        "id": "LS0_ikIHtvmt",
        "outputId": "a6bfc0d5-67bf-4517-d615-2168b6300867"
      },
      "execution_count": 1,
      "outputs": [
        {
          "output_type": "stream",
          "name": "stdout",
          "text": [
            "Произведение матриц:\n"
          ]
        },
        {
          "output_type": "execute_result",
          "data": {
            "text/plain": [
              "array([[ 30,  24,  18],\n",
              "       [ 84,  69,  54],\n",
              "       [138, 114,  90]])"
            ]
          },
          "metadata": {},
          "execution_count": 1
        }
      ]
    },
    {
      "cell_type": "markdown",
      "source": [
        "МОЙ КОД"
      ],
      "metadata": {
        "id": "Cn7gQYQaRj2n"
      }
    },
    {
      "cell_type": "code",
      "source": [
        "def print_error(message):\n",
        "    print(f\"\\033[91m{message}\\033[0m\")\n",
        "\n",
        "def matrix_multiply(A, B):\n",
        "    if len(A[0]) != len(B):\n",
        "        print_error(\"По правилам, такие матрицы умножить нельзя\")\n",
        "        return None\n",
        "\n",
        "    result = [[0] * len(B[0]) for _ in range(len(A))]\n",
        "\n",
        "    for i in range(len(A)):\n",
        "        for j in range(len(B[0])):\n",
        "            for k in range(len(B)):\n",
        "                result[i][j] += A[i][k] * B[k][j]\n",
        "\n",
        "    return result\n",
        "\n",
        "def matrix(rows, cols):\n",
        "    matrix = []\n",
        "    print(f\"Введите матрицу размером {rows}x{cols}:\")\n",
        "    for i in range(rows):\n",
        "        while True:\n",
        "            try:\n",
        "                row = list(map(int, input(f\"Введите элементы строки {i+1} через пробел: \").split()))\n",
        "                if len(row) == cols:\n",
        "                    matrix.append(row)\n",
        "                    break\n",
        "                else:\n",
        "                    print_error(f\"Ошибка: введите {cols} элементов!\")\n",
        "            except ValueError:\n",
        "                print_error(\"Ошибка: вводите только целые числа!\")\n",
        "    return matrix\n",
        "\n",
        "def positive(prompt):\n",
        "    while True:\n",
        "        try:\n",
        "            value = int(input(prompt))\n",
        "            if value > 0:\n",
        "                return value\n",
        "            else:\n",
        "                print_error(\"Ошибка: введите положительное целое число.\")\n",
        "        except ValueError:\n",
        "            print_error(\"Ошибка: вводите только целые числа!\")\n",
        "\n",
        "rows_A = positive(\"Введите количество строк матрицы A: \")\n",
        "cols_A = positive(\"Введите количество столбцов матрицы A: \")\n",
        "A = matrix(rows_A, cols_A)\n",
        "\n",
        "rows_B = positive(\"Введите количество строк матрицы B: \")\n",
        "cols_B = positive(\"Введите количество столбцов матрицы B: \")\n",
        "B = matrix(rows_B, cols_B)\n",
        "\n",
        "if A is not None and B is not None:\n",
        "    result = matrix_multiply(A, B)\n",
        "    if result:\n",
        "        print(\"Результат умножения матриц:\")\n",
        "        for row in result:\n",
        "            print(row)\n",
        "\n"
      ],
      "metadata": {
        "colab": {
          "base_uri": "https://localhost:8080/"
        },
        "id": "4T1QhmhKJLdr",
        "outputId": "77bdb70f-3413-4fbb-bd9b-84aa25485286",
        "collapsed": true
      },
      "execution_count": 2,
      "outputs": [
        {
          "output_type": "stream",
          "name": "stdout",
          "text": [
            "Введите количество строк матрицы A: 1 2 3\n",
            "\u001b[91mОшибка: вводите только целые числа!\u001b[0m\n",
            "Введите количество строк матрицы A: 1\n",
            "Введите количество столбцов матрицы A: 1\n",
            "Введите матрицу размером 1x1:\n",
            "Введите элементы строки 1 через пробел: 2\n",
            "Введите количество строк матрицы B: 1\n",
            "Введите количество столбцов матрицы B: 1\n",
            "Введите матрицу размером 1x1:\n",
            "Введите элементы строки 1 через пробел: 2\n",
            "Результат умножения матриц:\n",
            "[4]\n"
          ]
        }
      ]
    },
    {
      "cell_type": "markdown",
      "source": [
        "### Задача 2 – Функции"
      ],
      "metadata": {
        "id": "j73IJuxjISV3"
      }
    },
    {
      "cell_type": "markdown",
      "metadata": {
        "id": "zxRIdPO9gYyX"
      },
      "source": [
        "Дано две функции:\n",
        "\n",
        "\\begin{matrix} F(x) = a_{11}x^2 + a_{12}x + a_{13}&(1) \\\\ P(x) = a_{21}x^2+a_{22}x + a_{23} &(2) \\end{matrix}\n",
        "​\n",
        "* На вход программа должна принимать 2 строки. Каждая строка содержит 3 действительных числа через пробел: коэффициенты $a$.\n",
        "* Необходимо найти точки экстремума функций (например, через функцию [`minimize_scalar()`](https://docs.scipy.org/doc/scipy/reference/generated/scipy.optimize.minimize_scalar.html), [`fmin()`](https://docs.scipy.org/doc/scipy/reference/generated/scipy.optimize.fmin.html) и др.) и определить, есть ли у функций общие решения при введенных коэффициентах на некотором диапазоне значений $x$, предусмотрев ситуации, когда решения есть, решений нет и решений бесконечно много.\n"
      ]
    },
    {
      "cell_type": "markdown",
      "source": [
        "МОЙ КОД"
      ],
      "metadata": {
        "id": "GspmRDaGRvqL"
      }
    },
    {
      "cell_type": "code",
      "source": [
        "from scipy.optimize import minimize_scalar\n",
        "import numpy as np\n",
        "import matplotlib.pyplot as plt\n",
        "\n",
        "def print_error(message):\n",
        "    print(f\"\\033[91m{message}\\033[0m\")\n",
        "\n",
        "def F(x, a11, a12, a13):\n",
        "    return a11 * x**2 + a12 * x + a13\n",
        "\n",
        "def P(x, a21, a22, a23):\n",
        "    return a21 * x**2 + a22 * x + a23\n",
        "\n",
        "def ext_F(a11, a12, a13):\n",
        "    result = minimize_scalar(lambda x: F(x, a11, a12, a13))\n",
        "    return result.x, result.fun\n",
        "\n",
        "def ext_P(a21, a22, a23):\n",
        "    result = minimize_scalar(lambda x: P(x, a21, a22, a23))\n",
        "    return result.x, result.fun\n",
        "\n",
        "\n",
        "def solutions(a11, a12, a13, a21, a22, a23):\n",
        "    # (a11 - a21)x^2 + (a12 - a22)x + (a13 - a23) = 0\n",
        "    b1 = a11 - a21\n",
        "    b2 = a12 - a22\n",
        "    b3 = a13 - a23\n",
        "\n",
        "    discriminant = b2**2 - 4 * b1 * b3\n",
        "\n",
        "    if b1 == 0 and b2 == 0:\n",
        "        if b3 == 0:\n",
        "            return \"Бесконечно много решений\"\n",
        "        else:\n",
        "            return \"Решений нет\"\n",
        "    elif discriminant < 0:\n",
        "        return \"Решений нет\"\n",
        "    elif discriminant == 0:\n",
        "        x = -b2 / (2 * b1)\n",
        "        return [x]\n",
        "    else:\n",
        "        x1 = (-b2 + np.sqrt(discriminant)) / (2 * b1)\n",
        "        x2 = (-b2 - np.sqrt(discriminant)) / (2 * b1)\n",
        "        return [x1, x2]\n",
        "\n",
        "\n",
        "def right_coefficients(prompt):\n",
        "    while True:\n",
        "        try:\n",
        "            values = input(prompt).strip().split()\n",
        "            if len(values) != 3:\n",
        "                print_error(\"Ошибка: необходимо ввести ровно 3 коэффициента.\")\n",
        "                continue\n",
        "            coefficients = list(map(float, values))\n",
        "            return coefficients\n",
        "        except ValueError:\n",
        "            print_error(\"Ошибка: все коэффициенты должны быть действительными числами.\")\n",
        "\n",
        "def plot(a11, a12, a13, a21, a22, a23):\n",
        "    x = np.linspace(-10, 10, 400)\n",
        "    y_F = F(x, a11, a12, a13)\n",
        "    y_P = P(x, a21, a22, a23)\n",
        "\n",
        "    plt.figure(figsize=(10, 6))\n",
        "    plt.plot(x, y_F, label=f'F(x) = {a11}x² + {a12}x + {a13}', color='blue')\n",
        "    plt.plot(x, y_P, label=f'P(x) = {a21}x² + {a22}x + {a23}', color='red')\n",
        "\n",
        "    plt.title('Графики функций F(x) и P(x)')\n",
        "    plt.xlabel('x')\n",
        "    plt.ylabel('y')\n",
        "    plt.axhline(0, color='black', lw=0.5, ls='--')\n",
        "    plt.axvline(0, color='black', lw=0.5, ls='--')\n",
        "    plt.grid()\n",
        "    plt.legend()\n",
        "    plt.show()\n",
        "\n",
        "\n",
        "\n",
        "a11, a12, a13 = right_coefficients(\"Введите коэффициенты a11, a12, a13 для F(x): \")\n",
        "\n",
        "a21, a22, a23 = right_coefficients(\"Введите коэффициенты a21, a22, a23 для P(x): \")\n",
        "\n",
        "plot(a11, a12, a13, a21, a22, a23)\n",
        "\n",
        "extremum_F = ext_F(a11, a12, a13)\n",
        "extremum_P = ext_P(a21, a22, a23)\n",
        "\n",
        "print(f\"Экстремум F(x): x = {extremum_F[0]}, F(x) = {extremum_F[1]}\")\n",
        "print(f\"Экстремум P(x): x = {extremum_P[0]}, P(x) = {extremum_P[1]}\")\n",
        "\n",
        "solution = solutions(a11, a12, a13, a21, a22, a23)\n",
        "print(\"Общие решения:\", solution)\n"
      ],
      "metadata": {
        "colab": {
          "base_uri": "https://localhost:8080/",
          "height": 651
        },
        "id": "kp_FPjs6k-sG",
        "outputId": "5aa55f64-0d64-4dee-bf98-356d643664eb",
        "collapsed": true
      },
      "execution_count": 4,
      "outputs": [
        {
          "name": "stdout",
          "output_type": "stream",
          "text": [
            "Введите коэффициенты a11, a12, a13 для F(x): 1 2 2\n",
            "Введите коэффициенты a21, a22, a23 для P(x): 4 5 1\n"
          ]
        },
        {
          "output_type": "display_data",
          "data": {
            "text/plain": [
              "<Figure size 1000x600 with 1 Axes>"
            ],
            "image/png": "[encoded data removed]"
          },
          "metadata": {}
        },
        {
          "output_type": "stream",
          "name": "stdout",
          "text": [
            "Экстремум F(x): x = -1.0000000000000002, F(x) = 1.0\n",
            "Экстремум P(x): x = -0.6250000000000001, P(x) = -0.5624999999999998\n",
            "Общие решения: [-1.2637626158259734, 0.2637626158259733]\n"
          ]
        }
      ]
    },
    {
      "cell_type": "markdown",
      "source": [
        "### Задача 3 – Коэффициент асимметрии и эксцесса"
      ],
      "metadata": {
        "id": "85rPnAsNP4DJ"
      }
    },
    {
      "cell_type": "markdown",
      "source": [
        "Напишите функцию, которая для случайной выборки рассчитывает коэффициенты асимметрии и эксцесса.\n",
        "\n",
        "Коэффициент асимметрии:\n",
        "\n",
        "$$A_3=\\frac{m_3}{\\sigma^3}$$\n",
        "\n",
        "Коэффициент эксцесса:\n",
        "\n",
        "$$E_4=\\frac{m_4}{\\sigma^4}-3$$\n",
        "\n",
        "С помощью этих коэффициентов можно прикинуть, насколько близко распределение выборки к нормальному. Для расчета этих коэффициентов понадобится рассчитать центральные моменты третьего ($m_3$) и четвертого ($m_4$) порядка. Основные формулы, которые понадобятся для расчетов:\n",
        "1. Момент второго порядка (он же – дисперсия):\n",
        "$$m_2=D_e=\\frac{∑(x_i-\\overline{x_e})^2\\times n_i}{n}$$\n",
        "2. Момент третьего порядка:\n",
        "$$m_3=\\frac{∑(x_i-\\overline{x_e})^3\\times n_i}{n}$$\n",
        "3. Момент четвертого порядка:\n",
        "$$m_4=\\frac{∑(x_i-\\overline{x_e})^4\\times n_i}{n}$$\n",
        "\n",
        "В формулах выше $\\overline{x_e}$ – это выборочное среднее.\n",
        "$$\\overline{x_e}=\\frac{∑(x_i\\times n_i)}{n},$$\n",
        "где $x_i$ – $i$-е значение из выборки, $n_i$ – число раз, когда $x_i$ встретилось в выборке, $n$ – объем выборки.\n",
        "\n",
        "\n",
        "Проверить корректность расчетов можно с помощью функции [`kurtosis`](https://docs.scipy.org/doc/scipy/reference/generated/scipy.stats.kurtosis.html) для коэффициента эксцесса и функции [`skew`](https://docs.scipy.org/doc/scipy/reference/generated/scipy.stats.kurtosis.html) из `scipy`."
      ],
      "metadata": {
        "id": "ECIdYeJwcVDB"
      }
    },
    {
      "cell_type": "markdown",
      "source": [
        "**Коэффициент асимметрии** количественно определяет степень асимметрии распределения. Он показывает, в какую сторону распределение скошено относительно своего среднего значения.\n",
        "\n",
        "1. Если коэффициент асимметрии больше 0, это означает, что \"длинная часть\" распределения находится справа от среднего (правостороннее распределение). Это может указывать на наличие выбросов или значений, превышающих среднее.\n",
        "2. Если коэффициент меньше 0, \"длинная часть\" находится слева от среднего (левостороннее распределение). Это может свидетельствовать о большем количестве низких значений.\n",
        "3. Коэффициент равен 0, что указывает на симметрию вокруг среднего значения.\n",
        "\n",
        "\n",
        "\n",
        "**Эксцесс** измеряет остроту распределения по сравнению с нормальным распределением и показывает, насколько вероятны выбросы в данных.\n",
        "\n",
        "1. Если эксцесс положителен (больше 0), это указывает на более острый пик и более тяжелые хвосты по сравнению с нормальным распределением. Это означает, что в данных больше выбросов.\n",
        "2. Если эксцесс равен 0, это соответствует нормальному распределению, где пики и хвосты находятся на стандартном уровне.\n",
        "3. Если эксцесс отрицателен (меньше 0), это говорит о более плоском пике и легких хвостах, что указывает на меньшую вероятность выбросов."
      ],
      "metadata": {
        "id": "lpyTcQGuiKlx"
      }
    },
    {
      "cell_type": "code",
      "source": [
        "from scipy.stats import kurtosis, skew"
      ],
      "metadata": {
        "id": "-r9TXrodLRYV"
      },
      "execution_count": 5,
      "outputs": []
    },
    {
      "cell_type": "code",
      "source": [
        "kurtosis([2,3,5,7,8]), skew([2,3,5,7,8])"
      ],
      "metadata": {
        "colab": {
          "base_uri": "https://localhost:8080/"
        },
        "id": "A4u_j34fR_qh",
        "outputId": "fd5cd29e-f90d-41bd-f839-ae0e9422524b"
      },
      "execution_count": 6,
      "outputs": [
        {
          "output_type": "execute_result",
          "data": {
            "text/plain": [
              "(-1.56508875739645, 0.0)"
            ]
          },
          "metadata": {},
          "execution_count": 6
        }
      ]
    },
    {
      "cell_type": "code",
      "source": [
        "kurtosis([2,3,2,5,7,2,2,8]), skew([2,3,2,5,7,2,2,8])"
      ],
      "metadata": {
        "colab": {
          "base_uri": "https://localhost:8080/"
        },
        "id": "GJSj0d2aSD1P",
        "outputId": "03a58761-8c8a-43bb-db75-44a258df4dc2"
      },
      "execution_count": 7,
      "outputs": [
        {
          "output_type": "execute_result",
          "data": {
            "text/plain": [
              "(-1.1002728454980493, 0.7565586244407938)"
            ]
          },
          "metadata": {},
          "execution_count": 7
        }
      ]
    },
    {
      "cell_type": "code",
      "source": [
        "import matplotlib.pyplot as plt\n",
        "import seaborn as sns\n",
        "\n",
        "sns.histplot([2,3,2,5,7,2,2,8], kde=True);"
      ],
      "metadata": {
        "colab": {
          "base_uri": "https://localhost:8080/",
          "height": 430
        },
        "id": "MqHndfgzVjgA",
        "outputId": "b334c9e1-a25d-41bb-d303-22539bbafdf4"
      },
      "execution_count": 8,
      "outputs": [
        {
          "output_type": "display_data",
          "data": {
            "text/plain": [
              "<Figure size 640x480 with 1 Axes>"
            ],
            "image/png": "[encoded data removed]"
          },
          "metadata": {}
        }
      ]
    },
    {
      "cell_type": "markdown",
      "source": [
        "МОЙ КОД"
      ],
      "metadata": {
        "id": "EwwwBf_sSPCx"
      }
    },
    {
      "cell_type": "code",
      "source": [
        "import numpy as np\n",
        "from scipy.stats import skew, kurtosis\n",
        "\n",
        "def print_error(message):\n",
        "    print(f\"\\033[91m{message}\\033[0m\")\n",
        "\n",
        "def inputt():\n",
        "    values = []\n",
        "    freq = []\n",
        "\n",
        "    while not values:\n",
        "        try:\n",
        "            values_input = input(\"Введите значения через пробел: \").strip().split()\n",
        "            values = [float(v) for v in values_input]\n",
        "        except ValueError:\n",
        "            print_error(\"Ошибка: Все введенные значения должны быть числами.\")\n",
        "\n",
        "    while not freq:\n",
        "        try:\n",
        "            freq_input = input(\"Введите соответствующие частоты через пробел: \").strip().split()\n",
        "            freq = [int(f) for f in freq_input]\n",
        "\n",
        "            if len(values) != len(freq):\n",
        "                print_error(\"Ошибка: Количество значений и частот должно совпадать.\")\n",
        "                freq = []\n",
        "            elif any(f <= 0 for f in freq):\n",
        "                print_error(\"Ошибка: Частоты должны быть положительными числами.\")\n",
        "                freq = []\n",
        "        except ValueError:\n",
        "            print_error(\"Ошибка: Все введенные частоты должны быть числами.\")\n",
        "\n",
        "    return values, freq\n",
        "\n",
        "def skew_kurtosis(values, freq):\n",
        "    values = np.array(values)\n",
        "    freq = np.array(freq)\n",
        "    n = np.sum(freq)\n",
        "    xe = np.sum(values * freq) / n\n",
        "\n",
        "    m2 = np.sum(freq * (values - xe)**2) / n\n",
        "    m3 = np.sum(freq * (values - xe)**3) / n\n",
        "    m4 = np.sum(freq * (values - xe)**4) / n\n",
        "\n",
        "    skew = m3 / m2**(3/2)\n",
        "    kurtosis = m4 / m2**2 - 3\n",
        "\n",
        "\n",
        "    return {\n",
        "        \"mean\": xe,\n",
        "        \"skew\": skew,\n",
        "        \"kurtosis\": kurtosis\n",
        "    }\n",
        "\n",
        "\n",
        "print(\"Введите данные для анализа распределения.\")\n",
        "values, freq = inputt()\n",
        "result = skew_kurtosis(values, freq)\n",
        "\n",
        "print(f\"Выборочное среднее: {result['mean']}\")\n",
        "print(f\"Коэффициент асимметрии (расчет): {result['skew']}\")\n",
        "print(f\"Коэффициент эксцесса (расчет): {result['kurtosis']}\")\n"
      ],
      "metadata": {
        "colab": {
          "base_uri": "https://localhost:8080/"
        },
        "id": "VQWz0W5MOvLb",
        "outputId": "6fc4bbc0-1367-4b93-c395-37147d84f010"
      },
      "execution_count": 16,
      "outputs": [
        {
          "output_type": "stream",
          "name": "stdout",
          "text": [
            "Введите данные для анализа распределения.\n",
            "Введите значения через пробел: 1 2 3 4\n",
            "Введите соответствующие частоты через пробел: 1 1 1 1\n",
            "Выборочное среднее: 2.5\n",
            "Коэффициент асимметрии (расчет): 0.0\n",
            "Коэффициент эксцесса (расчет): -1.36\n"
          ]
        }
      ]
    },
    {
      "cell_type": "markdown",
      "source": [
        "Проверка\n"
      ],
      "metadata": {
        "id": "fnwUFW4VVXq-"
      }
    },
    {
      "cell_type": "code",
      "source": [
        "kurtosis(values),skew(values)"
      ],
      "metadata": {
        "colab": {
          "base_uri": "https://localhost:8080/"
        },
        "id": "iL3zAgL5Ur7C",
        "outputId": "99727ff6-4611-4f7d-af13-ad5704046a43"
      },
      "execution_count": 18,
      "outputs": [
        {
          "output_type": "execute_result",
          "data": {
            "text/plain": [
              "(-1.36, 0.0)"
            ]
          },
          "metadata": {},
          "execution_count": 18
        }
      ]
    },
    {
      "cell_type": "markdown",
      "source": [
        "### Куда и как сдавать работу?\n",
        "\n",
        "По инструкции в гитхаб – https://shy-question-39d.notion.site/1150ea832e418032bfc3d3e827c380fb?pvs=74\n",
        "\n",
        "**Устная защита работ не требуется, но вам могут быть заданы вопросы прямо в вашем пул-реквесте!**"
      ],
      "metadata": {
        "id": "S0lPIXMvB6vb"
      }
    },
    {
      "cell_type": "code",
      "source": [],
      "metadata": {
        "id": "qiQPuwJNwpuk"
      },
      "execution_count": null,
      "outputs": []
    }
  ]
}